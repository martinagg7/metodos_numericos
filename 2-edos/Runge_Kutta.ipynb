{
  "cells": [
    {
      "cell_type": "markdown",
      "metadata": {
        "id": "ZPjoqWaKz-Qg"
      },
      "source": [
        "# R-4"
      ]
    },
    {
      "cell_type": "markdown",
      "metadata": {
        "id": "MMrewFVg0Cpr"
      },
      "source": [
        "### Paso inicial: Definir el tamaño del paso\n",
        "\n",
        "El tamaño del paso \\( h \\) se define como:\n",
        "\n",
        "$$\n",
        "h = \\frac{t_f - t_0}{N}\n",
        "$$\n",
        "\n",
        "### Pendientes: En cada iteración, se calculan las siguientes pendientes:\n",
        "\n",
        "1. \\( k_1 \\):\n",
        "\n",
        "$$\n",
        "k_1 = f(y_n, t_n)\n",
        "$$\n",
        "\n",
        "2. \\( k_2 \\):\n",
        "\n",
        "$$\n",
        "k_2 = f\\left(y_n + \\frac{h}{2} k_1, t_n + \\frac{h}{2}\\right)\n",
        "$$\n",
        "\n",
        "3. \\( k_3 \\):\n",
        "\n",
        "$$\n",
        "k_3 = f\\left(y_n + \\frac{h}{2} k_2, t_n + \\frac{h}{2}\\right)\n",
        "$$\n",
        "\n",
        "4. \\( k_4 \\):\n",
        "\n",
        "$$\n",
        "k_4 = f\\left(y_n + h k_3, t_n + h\\right)\n",
        "$$\n",
        "### Valor de y:\n",
        "\n",
        "$$\n",
        "y_{n+1} = y_n + \\frac{h}{6} \\left(k_1 + 2k_2 + 2k_3 + k_4\\right)\n",
        "$$"
      ]
    },
    {
      "cell_type": "code",
      "execution_count": 2,
      "metadata": {
        "id": "WcC2gnbr0hH9"
      },
      "outputs": [],
      "source": [
        "def R_4(f, t0, tf, y0, n):\n",
        "    h = (tf - t0) / n\n",
        "    y_values = [y0]\n",
        "    t_values = [t0]\n",
        "    y = y0\n",
        "    t = t0\n",
        "\n",
        "    while t < tf:\n",
        "        k_1 = f(t, y)\n",
        "        k_2 = f(t + h/2, y + (h/2) * k_1)\n",
        "        k_3 = f(t + h/2, y + (h/2) * k_2)\n",
        "        k_4 = f(t + h, y + h * k_3)\n",
        "        y = y + (h/6) * (k_1 + 2 * k_2 + 2 * k_3 + k_4)\n",
        "\n",
        "        # Actualización del valor de t\n",
        "        t = t + h\n",
        "\n",
        "        # Guardamos los valores\n",
        "        y_values.append(y)\n",
        "        t_values.append(t)\n",
        "\n",
        "    return t_values, y_values\n",
        "\n",
        "\n",
        "\n",
        "\n",
        "\n",
        "\n",
        "\n",
        "\n"
      ]
    }
  ],
  "metadata": {
    "colab": {
      "provenance": []
    },
    "kernelspec": {
      "display_name": "Python 3",
      "name": "python3"
    },
    "language_info": {
      "name": "python"
    }
  },
  "nbformat": 4,
  "nbformat_minor": 0
}
