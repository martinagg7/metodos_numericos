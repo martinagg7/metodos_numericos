{
 "cells": [
  {
   "cell_type": "markdown",
   "metadata": {},
   "source": [
    "# Metodo Punto Medio"
   ]
  },
  {
   "cell_type": "markdown",
   "metadata": {},
   "source": [
    "\n",
    "\n",
    "El método del Punto Medio es una mejora sobre el método de Euler para aproximar soluciones de ecuaciones diferenciales ordinarias. Se basa en calcular un punto intermedio y usarlo para obtener una pendiente más precisa. Supongamos que queremos resolver una EDO de la forma:\n",
    "$$\n",
    "y' = f(t, y), \\quad y(t_0) = y_0\n",
    "$$\n",
    "con un paso de tamaño \\( h \\).\n",
    "\n",
    "## Pasos del Método del Punto Medio\n",
    "\n",
    "1. **Calcular el Punto Medio:**\n",
    "   Primero, se obtiene una predicción en el punto medio del intervalo:\n",
    "   $$\n",
    "   y_{\\text{medio}} = y_n + \\frac{h}{2} \\cdot f(t_n, y_n)\n",
    "   $$\n",
    "\n",
    "2. **Evaluar la Pendiente en el Punto Medio:**\n",
    "   Luego, se evalúa la función \\( f \\) en este punto intermedio:\n",
    "   $$\n",
    "   f_{\\text{medio}} = f\\left(t_n + \\frac{h}{2}, y_{\\text{medio}}\\right)\n",
    "   $$\n",
    "\n",
    "3. **Calcular \\( y_{n+1} \\):**\n",
    "   Finalmente, se usa la pendiente calculada en el punto medio para corregir el valor de \\( y \\) en el siguiente paso:\n",
    "   $$\n",
    "   y_{n+1} = y_n + h \\cdot f_{\\text{medio}}\n",
    "   $$\n",
    "\n",
    "\n"
   ]
  },
  {
   "cell_type": "code",
   "execution_count": 3,
   "metadata": {},
   "outputs": [],
   "source": [
    "def punto_medio(f,t0,tf,y0,n):\n",
    "    h=(tf-t0)/n\n",
    "    y=y0\n",
    "    t=t0\n",
    "    #listas para almacenar valores\n",
    "    t_values=[t0]\n",
    "    y_values=[y0]\n",
    "\n",
    "    while t<tf:\n",
    "        y_med=y+(h/2)*f(t,y)\n",
    "        y=y+h*f(t+h/2,y_med)\n",
    "\n",
    "        t=t+h\n",
    "        t_values.append(t)\n",
    "        y_values.append(y)\n",
    "\n",
    "    return t_values,y_values    \n"
   ]
  }
 ],
 "metadata": {
  "kernelspec": {
   "display_name": "Python 3",
   "language": "python",
   "name": "python3"
  },
  "language_info": {
   "codemirror_mode": {
    "name": "ipython",
    "version": 3
   },
   "file_extension": ".py",
   "mimetype": "text/x-python",
   "name": "python",
   "nbconvert_exporter": "python",
   "pygments_lexer": "ipython3",
   "version": "3.12.6"
  }
 },
 "nbformat": 4,
 "nbformat_minor": 2
}
