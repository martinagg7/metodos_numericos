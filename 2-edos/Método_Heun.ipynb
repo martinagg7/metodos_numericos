{
  "nbformat": 4,
  "nbformat_minor": 0,
  "metadata": {
    "colab": {
      "provenance": []
    },
    "kernelspec": {
      "name": "python3",
      "display_name": "Python 3"
    },
    "language_info": {
      "name": "python"
    }
  },
  "cells": [
    {
      "cell_type": "markdown",
      "source": [
        "#Método de heun"
      ],
      "metadata": {
        "id": "FpWu3O1qooaO"
      }
    },
    {
      "cell_type": "markdown",
      "source": [
        "El método de Heun es una mejora del método de Euler y sigue estos pasos:\n",
        "\n",
        "1. **Estimación inicial (Método de Euler):**\n",
        "\n",
        "$$\n",
        "y_{1}^{Euler} = y_0 + h \\cdot f(t_0, y_0)\n",
        "$$\n",
        "\n",
        "2. **Corrección utilizando la pendiente promedio:**\n",
        "\n",
        "$$\n",
        "y_1 = y_0 + \\frac{h}{2} \\cdot \\left( f(t_0, y_0) + f(t_1, y_1^{Euler}) \\right)\n",
        "$$\n",
        "\n",
        "Donde:\n",
        "- \\( h \\) es el tamaño del paso.\n",
        "- \\( f(x, y) \\) es la función que describe la ecuación diferencial\n",
        "- \\( y_0 \\) es el valor inicial de la solución.\n",
        "- \\( x_0 \\) es el valor inicial del punto.\n",
        "- \\( y_1 \\) es el valor corregido en el siguiente paso."
      ],
      "metadata": {
        "id": "uiaHZFuporza"
      }
    },
    {
      "cell_type": "code",
      "source": [
        "def heun(f,t0,tf,y0,n):\n",
        "  h=(tf-t0)/n\n",
        "  y=y0\n",
        "  t=t0\n",
        "\n",
        "  #nos creamos dos listas para guardar los valores y luego poder representarlo\n",
        "  t_values=[t0]\n",
        "  y_values=[y0]\n",
        "\n",
        "  while t<tf:\n",
        "    y_euler=y+h*f(t,y)\n",
        "    y=y+h/2*(f(t,y)+f(t+h,y_euler))\n",
        "\n",
        "    #actualizamos valor t\n",
        "    t=t+h\n",
        "\n",
        "    #guardamos lista\n",
        "    t_values.append(t)\n",
        "    y_values.append(y)\n",
        "\n",
        "    return t_values,y_values\n",
        "\n",
        "\n",
        "\n"
      ],
      "metadata": {
        "id": "c4JlzXbMAH34"
      },
      "execution_count": 1,
      "outputs": []
    },
    {
      "cell_type": "markdown",
      "source": [
        "El **método de Euler** asume que la pendiente en el punto actual $$( t_n ) $$sigue siendo la misma a lo largo de todo el paso.\n",
        "\n",
        "El **método de Heun** corrige esto al promediar la pendiente en el punto actual $$ f(t_n, y_n) $$ y la pendiente en el punto siguiente $$ f(t_n + h, y_{\\text{pred}}) $$.\n"
      ],
      "metadata": {
        "id": "Fb96su8r_oaH"
      }
    }
  ]
}