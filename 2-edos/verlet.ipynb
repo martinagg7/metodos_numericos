{
 "cells": [
  {
   "cell_type": "code",
   "execution_count": null,
   "metadata": {},
   "outputs": [],
   "source": [
    "def verlet(t0,tf,f,a,b,n):\n",
    "\n",
    "  h=(tf-t0)/n\n",
    "\n",
    "  #inicialiciamos el valor del arranque y y_actual\n",
    "  y_prev=a-b*h+(h**2/2)*f(a)\n",
    "  y_act=a\n",
    "  t=t0\n",
    "  #listas guardar valores\n",
    "  y_values=[a]\n",
    "  t_values=[t0]\n",
    "\n",
    "  #bucle para repetir hasta que se llegue a tf\n",
    "  while t<tf:\n",
    "    y_next=2*y_act-y_prev+h**2*f(y_act)\n",
    "    t+=h\n",
    "    #añadimos los valores a las listas\n",
    "    y_values.append(y_next)\n",
    "    t_values.append(t)\n",
    "\n",
    "    #actualizamos los valores\n",
    "    y_prev=y_act\n",
    "    y_act=y_next\n",
    "\n",
    "\n",
    "  return t_values,y_values"
   ]
  }
 ],
 "metadata": {
  "language_info": {
   "name": "python"
  }
 },
 "nbformat": 4,
 "nbformat_minor": 2
}
