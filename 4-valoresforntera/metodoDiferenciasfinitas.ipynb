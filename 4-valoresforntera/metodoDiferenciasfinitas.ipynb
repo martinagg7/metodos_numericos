{
 "cells": [
  {
   "cell_type": "markdown",
   "metadata": {},
   "source": [
    "# Método de Diferencias Finitas"
   ]
  },
  {
   "cell_type": "code",
   "execution_count": null,
   "metadata": {},
   "outputs": [],
   "source": [
    "import numpy as np\n",
    "\n",
    "def diferencias_finitas_simple(n, L, T1, TL, h, Ta):\n",
    "    \"\"\"\n",
    "    Resuelve el sistema de diferencias finitas para una ecuación diferencial ordinaria.\n",
    "\n",
    "    Parámetros:\n",
    "    - n: Número de puntos internos (puntos entre los límites izquierdo y derecho).\n",
    "    - L: Longitud del dominio.\n",
    "    - T1: Temperatura en el límite izquierdo (x = 0).\n",
    "    - TL: Temperatura en el límite derecho (x = L).\n",
    "    - h: Coeficiente de transferencia de calor.\n",
    "    - Ta: Temperatura ambiente.\n",
    "\n",
    "    Retorna:\n",
    "    - T: Vector con las temperaturas en todos los puntos del dominio (incluidas las fronteras).\n",
    "    \"\"\"\n",
    "    # Paso 1: Calcular el tamaño de cada subintervalo\n",
    "    dx = L / (n + 1)  # La distancia entre dos puntos consecutivos en el dominio\n",
    "\n",
    "    # Paso 2: Crear la matriz A (tridiagonal) del sistema\n",
    "    A = np.zeros((n, n))  # Inicializamos una matriz n x n con ceros\n",
    "    for i in range(n):\n",
    "        A[i, i] = 2 + h * dx**2  # Elemento de la diagonal principal\n",
    "        if i > 0:\n",
    "            A[i, i - 1] = -1  # Elemento de la subdiagonal\n",
    "        if i < n - 1:\n",
    "            A[i, i + 1] = -1  # Elemento de la superdiagonal\n",
    "\n",
    "    # Paso 3: Crear el vector b\n",
    "    b = np.full(n, h * dx**2 * Ta)  # Rellenamos con el término constante\n",
    "    b[0] += T1  # Ajustar el primer elemento con la condición de frontera izquierda\n",
    "    b[-1] += TL  # Ajustar el último elemento con la condición de frontera derecha\n",
    "\n",
    "    # Paso 4: Resolver el sistema lineal A * T_internal = b\n",
    "    T_internal = np.linalg.solve(A, b)\n",
    "\n",
    "    # Paso 5: Construir el vector completo de temperaturas\n",
    "    T = np.zeros(n + 2)  # Crear un vector de tamaño n + 2 (incluye fronteras)\n",
    "    T[0] = T1            # La frontera izquierda\n",
    "    T[1:-1] = T_internal # Rellenar con las temperaturas internas calculadas\n",
    "    T[-1] = TL           # La frontera derecha\n",
    "\n",
    "    return T"
   ]
  },
  {
   "cell_type": "markdown",
   "metadata": {},
   "source": [
    "## Índices de Filas y Columnas en Python\n",
    "\n",
    "- **Las matrices en Python están indexadas desde 0.**\n",
    "- Para una matriz de tamaño \\(n \\times n\\):\n",
    "  - **Primera fila**: índice `0`.\n",
    "  - **Segunda fila**: índice `1`.\n",
    "  - **Tercera fila**: índice `2`.\n",
    "  - ...\n",
    "  - **Última fila**: índice `n-1`.\n",
    "\n",
    "## Ejemplo de matriz tridiagonal (\\(3 \\times 3\\)):\n",
    "- **Diagonal principal**: elementos `A[i, i]` (centro de cada fila).\n",
    "- **Subdiagonal**: elementos `A[i, i-1]` (izquierda de la diagonal).\n",
    "- **Superdiagonal**: elementos `A[i, i+1]` (derecha de la diagonal)."
   ]
  },
  {
   "cell_type": "markdown",
   "metadata": {},
   "source": []
  }
 ],
 "metadata": {
  "kernelspec": {
   "display_name": "Python 3",
   "language": "python",
   "name": "python3"
  },
  "language_info": {
   "name": "python",
   "version": "3.12.6"
  }
 },
 "nbformat": 4,
 "nbformat_minor": 2
}
