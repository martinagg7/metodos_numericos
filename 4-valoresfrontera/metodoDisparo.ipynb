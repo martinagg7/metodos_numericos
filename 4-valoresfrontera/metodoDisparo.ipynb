{
 "cells": [
  {
   "cell_type": "markdown",
   "metadata": {},
   "source": [
    "# Método del Disparo(Con RK4)\n",
    "---\n",
    "$$\n",
    "\\frac{d^2T}{dx^2} + h'(T - T_a) = 0\n",
    "$$\n",
    "\n",
    "Convertida en el sistema de primer orden:\n",
    "\n",
    "$$\n",
    "\\frac{dT}{dx} = z, \\quad \\frac{dz}{dx} = h'(T - T_a)\n",
    "$$\n",
    "\n",
    "Con las condiciones iniciales y de frontera:\n",
    "\n",
    "$$\n",
    "T(0) = T_0, \\quad T(L) = T_b, \\quad z(0) = z_0\n",
    "$$"
   ]
  },
  {
   "cell_type": "code",
   "execution_count": 3,
   "metadata": {},
   "outputs": [],
   "source": [
    "# Función de Runge-Kutta para resolver la EDO\n",
    "def resolver_T10(h, T_inicial, z_inicial, h_prime, T_a, L):\n",
    "    \"\"\"\n",
    "    Resuelve la ecuación diferencial y devuelve T(10) usando Runge-Kutta.\n",
    "    \"\"\"\n",
    "    T = T_inicial\n",
    "    z = z_inicial\n",
    "    x = 0\n",
    "    while x < L:\n",
    "        # k1\n",
    "        k1_T = z\n",
    "        k1_z = h_prime * (T - T_a)\n",
    "        \n",
    "        # k2\n",
    "        k2_T = z + (h / 2) * k1_z\n",
    "        k2_z = h_prime * ((T + (h / 2) * k1_T) - T_a)\n",
    "        \n",
    "        # k3\n",
    "        k3_T = z + (h / 2) * k2_z\n",
    "        k3_z = h_prime * ((T + (h / 2) * k2_T) - T_a)\n",
    "        \n",
    "        # k4\n",
    "        k4_T = z + h * k3_z\n",
    "        k4_z = h_prime * ((T + h * k3_T) - T_a)\n",
    "        \n",
    "        # Actualizar T y z\n",
    "        T += (h / 6) * (k1_T + 2 * k2_T + 2 * k3_T + k4_T)\n",
    "        z += (h / 6) * (k1_z + 2 * k2_z + 2 * k3_z + k4_z)\n",
    "        x += h\n",
    "    return T\n",
    "\n",
    "# Función para interpolar z_inicial adecuado\n",
    "def ajustar_z_inicial(z1, z2, T1, T2, T_deseado):\n",
    "    \"\"\"\n",
    "    Calcula el valor de z_inicial adecuado usando interpolación lineal.\n",
    "    \"\"\"\n",
    "    return z1 + (z2 - z1) * (T_deseado - T1) / (T2 - T1)\n"
   ]
  }
 ],
 "metadata": {
  "kernelspec": {
   "display_name": "Python 3",
   "language": "python",
   "name": "python3"
  },
  "language_info": {
   "codemirror_mode": {
    "name": "ipython",
    "version": 3
   },
   "file_extension": ".py",
   "mimetype": "text/x-python",
   "name": "python",
   "nbconvert_exporter": "python",
   "pygments_lexer": "ipython3",
   "version": "3.12.6"
  }
 },
 "nbformat": 4,
 "nbformat_minor": 2
}
