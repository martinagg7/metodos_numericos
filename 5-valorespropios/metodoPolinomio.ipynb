{
 "cells": [
  {
   "cell_type": "markdown",
   "metadata": {},
   "source": [
    "# Método del polinomio"
   ]
  },
  {
   "cell_type": "code",
   "execution_count": null,
   "metadata": {},
   "outputs": [],
   "source": [
    "# Ejecutar el código con tu ejemplo: N = 2, L = 1, y0 = 0, yL = 0\n",
    "\n",
    "def metodo_polinomio_con_fronteras(N, L, y0, yL):\n",
    "    \"\"\"\n",
    "    Método del polinomio simplificado para resolver:\n",
    "    d^2y/dx^2 + p^2 y = 0, con condiciones de frontera.\n",
    "    \n",
    "    Parámetros:\n",
    "        N : int -> Número de puntos interiores\n",
    "        L : float -> Longitud del dominio\n",
    "        y0 : float -> Valor de y en x=0\n",
    "        yL : float -> Valor de y en x=L\n",
    "    \n",
    "    Retorna:\n",
    "        p_squared : array -> Autovalores p^2\n",
    "        p_values : array -> Raíz cuadrada de los autovalores (p)\n",
    "        autovectors : matrix -> Autovectores asociados\n",
    "    \"\"\"\n",
    "    # Paso de discretización\n",
    "    dx = L / (N + 1)\n",
    "    \n",
    "    # Crear la matriz tridiagonal (manual)\n",
    "    A = np.zeros((N, N))\n",
    "    for i in range(N):\n",
    "        A[i, i] = 2  # Diagonal principal\n",
    "        if i > 0:\n",
    "            A[i, i-1] = -1  # Subdiagonal\n",
    "        if i < N - 1:\n",
    "            A[i, i+1] = -1  # Superdiagonal\n",
    "    \n",
    "    # Escalar la matriz por dx^2\n",
    "    A = A / (dx**2)\n",
    "    \n",
    "    # Calcular autovalores y autovectores\n",
    "    eigenvalues, eigenvectors = eig(A)\n",
    "    eigenvalues = np.real(eigenvalues)  # Solo parte real\n",
    "    eigenvectors = np.real(eigenvectors)  # Solo parte real de autovectores\n",
    "    \n",
    "    # Filtrar autovalores positivos\n",
    "    indices_positivos = eigenvalues > 0\n",
    "    p_squared = eigenvalues[indices_positivos]\n",
    "    p_values = np.sqrt(p_squared)\n",
    "    autovectors = eigenvectors[:, indices_positivos]\n",
    "    \n",
    "   \n",
    "    return p_squared, p_values, autovectors"
   ]
  }
 ],
 "metadata": {
  "kernelspec": {
   "display_name": "Python 3",
   "language": "python",
   "name": "python3"
  },
  "language_info": {
   "codemirror_mode": {
    "name": "ipython",
    "version": 3
   },
   "file_extension": ".py",
   "mimetype": "text/x-python",
   "name": "python",
   "nbconvert_exporter": "python",
   "pygments_lexer": "ipython3",
   "version": "3.12.6"
  }
 },
 "nbformat": 4,
 "nbformat_minor": 2
}
