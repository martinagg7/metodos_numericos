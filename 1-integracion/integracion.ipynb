{
  "nbformat": 4,
  "nbformat_minor": 0,
  "metadata": {
    "colab": {
      "provenance": [],
      "toc_visible": true
    },
    "kernelspec": {
      "name": "python3",
      "display_name": "Python 3"
    },
    "language_info": {
      "name": "python"
    }
  },
  "cells": [
    {
      "cell_type": "markdown",
      "source": [
        "#Trapecio y trapecio compuesta"
      ],
      "metadata": {
        "id": "o2ezlZ0U9dX2"
      }
    },
    {
      "cell_type": "code",
      "source": [
        "import numpy as np"
      ],
      "metadata": {
        "id": "_VTDYGd4_M_E"
      },
      "execution_count": 3,
      "outputs": []
    },
    {
      "cell_type": "code",
      "source": [
        "def trapecio(f,x0,x1):\n",
        "  h=x1-x0\n",
        "  return h/2*((f(x0)+f(x1))/2)"
      ],
      "metadata": {
        "id": "yJZR-QXR-XA4"
      },
      "execution_count": null,
      "outputs": []
    },
    {
      "cell_type": "code",
      "source": [
        "def trapecio_comp(f,x0,xn,n):\n",
        "  h=(xn-x0)/n\n",
        "  sum=f(x0)+f(xn)\n",
        "\n",
        "  #generar puntos equiespaciados si quiero n subintervalosn tengo que generar n+1 ptos\n",
        "  x=np.linspace(x0,xn,n+1)\n",
        "  for i in range (1,n):\n",
        "      sum+=2*f(x[i])\n",
        "\n",
        "  resultado=(h/2)*sum\n",
        "  return resultado"
      ],
      "metadata": {
        "id": "L9hE748N--4C"
      },
      "execution_count": 8,
      "outputs": []
    },
    {
      "cell_type": "markdown",
      "source": [
        "# Regla de Simpson y Simpson Compuesta"
      ],
      "metadata": {
        "id": "MoX09rQviO3H"
      }
    },
    {
      "cell_type": "code",
      "source": [
        "def simpson(f,x0,x1,x2):\n",
        "  h=(x2-x0)/2\n",
        "  return h/3*(f(x0)+4*f(x1)+f(x2))\n"
      ],
      "metadata": {
        "id": "RD7AONRHiSwx"
      },
      "execution_count": 12,
      "outputs": []
    },
    {
      "cell_type": "code",
      "source": [
        "def simpson_comp(f,x0,xn,n):\n",
        "  #inicializamos sumas\n",
        "  sum_par=0\n",
        "  sum_imp=0\n",
        "\n",
        "  h=(xn-x0)/n\n",
        "  x=np.linspace(x0,xn,n+1)\n",
        "\n",
        "  #num impares\n",
        "  for i in range(1,n,2):\n",
        "    sum_imp+=4*f(x[i])\n",
        "  #num pares\n",
        "  for i in range(2,n-1,2):\n",
        "    sum_par+=2*f(x[i])\n",
        "\n",
        "  resultado=(h/3)*(f(x0)+sum_imp+sum_par+f(xn))\n",
        "\n"
      ],
      "metadata": {
        "id": "xygDMiaPkWa4"
      },
      "execution_count": 13,
      "outputs": []
    },
    {
      "cell_type": "code",
      "source": [
        "# por qué ponemos asi los limites\n",
        "n=8\n",
        "for i in range(2,n-1,2):\n",
        "  print(i)"
      ],
      "metadata": {
        "colab": {
          "base_uri": "https://localhost:8080/"
        },
        "id": "WkP1EHXLlyFw",
        "outputId": "da3518b4-4c10-4afb-c8b2-ab9ecf962116"
      },
      "execution_count": 16,
      "outputs": [
        {
          "output_type": "stream",
          "name": "stdout",
          "text": [
            "2\n",
            "4\n",
            "6\n"
          ]
        }
      ]
    }
  ]
}